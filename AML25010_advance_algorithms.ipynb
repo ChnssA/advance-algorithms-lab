{
  "nbformat": 4,
  "nbformat_minor": 0,
  "metadata": {
    "colab": {
      "provenance": [],
      "authorship_tag": "ABX9TyNkfYvZQYsaAOFo6mrO4L1P",
      "include_colab_link": true
    },
    "kernelspec": {
      "name": "python3",
      "display_name": "Python 3"
    },
    "language_info": {
      "name": "python"
    }
  },
  "cells": [
    {
      "cell_type": "markdown",
      "metadata": {
        "id": "view-in-github",
        "colab_type": "text"
      },
      "source": [
        "<a href=\"https://colab.research.google.com/github/ChnssA/advance-algorithms-lab/blob/main/AML25010_advance_algorithms.ipynb\" target=\"_parent\"><img src=\"https://colab.research.google.com/assets/colab-badge.svg\" alt=\"Open In Colab\"/></a>"
      ]
    },
    {
      "cell_type": "markdown",
      "source": [
        "# **LabSheet 6: Greedy Design Strategy **\n"
      ],
      "metadata": {
        "id": "ucHkHJ0X78Ll"
      }
    },
    {
      "cell_type": "markdown",
      "source": [
        "\n",
        "```\n",
        "# 1. An ATM machine dispenses cash in denominations of ₹2000, ₹500, ₹200, and ₹100. For\n",
        "each denomination, the ATM has only a limited number of notes available. Given a\n",
        "withdrawal amount P and the available counts of each denomination, design an\n",
        "algorithm to determine whether the ATM can dispense exactly P rupees. If possible, the\n",
        "algorithm should minimize the total number of notes dispensed. If it is not possible, the\n",
        "algorithm should return \"Impossible\". Use a greedy approach where, at each step, you\n",
        "take as many notes as possible from the largest denomination without exceeding P or\n",
        "the available supply.\n",
        " Input:\n",
        "o Withdrawal amount P\n",
        "o Available notes: count2000, count500, count200, count100\n",
        " Output:\n",
        "o Minimum number of notes required, or \"Impossible\" if exact dispensing is not\n",
        "possible.\n",
        " Example:\n",
        " Input: P = 3700, count2000 = 1, count500 = 3, count200 = 2, count100 = 5\n",
        " Greedy selection: 2000 (1 note) + 500 (3 notes) + 200 (1 note) = 3700\n",
        " Output: 5\n",
        "\n",
        "```\n",
        "\n"
      ],
      "metadata": {
        "id": "_vBO_oEs78-E"
      }
    },
    {
      "cell_type": "code",
      "execution_count": 5,
      "metadata": {
        "colab": {
          "base_uri": "https://localhost:8080/"
        },
        "id": "IRA1sj027fJy",
        "outputId": "11e1a55b-8809-414b-9894-513dca6cd21d"
      },
      "outputs": [
        {
          "output_type": "execute_result",
          "data": {
            "text/plain": [
              "5"
            ]
          },
          "metadata": {},
          "execution_count": 5
        }
      ],
      "source": [
        "def atm_withdrawl(amount, count2000, count500, count200, count100):\n",
        "  dispend={}\n",
        "  for value,avail in [(2000,count2000),(500,count500),(200,count200),(100,count100)]:\n",
        "    notes_used = min(amount //value, avail)\n",
        "    amount-=notes_used*value\n",
        "    dispend[value]=notes_used\n",
        "  if amount==0:\n",
        "    return sum(dispend.values())\n",
        "  else:\n",
        "    return \"Impossible\"\n",
        "atm_withdrawl(3700,1,3,2,5)\n",
        ""
      ]
    },
    {
      "cell_type": "markdown",
      "source": [
        "\n",
        "\n",
        "```\n",
        "# 2. A cable company needs to connect a set of houses along a straight road to the internet.\n",
        "To reduce costs, the company installs Wi-Fi routers with a fixed coverage radius R (in\n",
        "meters). Each router can serve all houses located within its coverage range. Given the\n",
        "positions of the houses on the road (as integers on a number line) and the radius R,\n",
        "design a greedy algorithm to place the minimum number of routers such that all houses\n",
        "are covered. At each step, the greedy strategy is to place a router at the furthest possible\n",
        "position that still covers the leftmost uncovered house, then repeat the process until all\n",
        "houses are covered.\n",
        "Input:\n",
        "An array of integers houses[] (sorted positions of houses).\n",
        "An integer R (coverage radius).\n",
        "Output:\n",
        "Minimum number of routers needed to cover all houses.\n",
        "Example:\n",
        "Input: houses = [1, 2, 4, 8, 10], R = 2\n",
        "Greedy placement: Router at 2 (covers 1–4), Router at 8 (covers 6–10)\n",
        "Output: 2\n",
        "```\n",
        "\n",
        "\n"
      ],
      "metadata": {
        "id": "MnDKCZ968JeQ"
      }
    },
    {
      "cell_type": "code",
      "source": [
        "def wf_router_placement(locations,radius):\n",
        "  n=len(locations)\n",
        "  index=0\n",
        "  routers_needed=0\n",
        "  while index<n:\n",
        "    coverage_limit = locations[index]+radius\n",
        "    while index < n and locations[index]<=coverage_limit:\n",
        "      index+=1\n",
        "    routers_needed+=1\n",
        "    extension=locations[index-1]+radius\n",
        "    while index<n and locations[index]<=extension:\n",
        "      index+=1\n",
        "  return routers_needed\n",
        "wf_router_placement([1,2,4,8,10],2)"
      ],
      "metadata": {
        "colab": {
          "base_uri": "https://localhost:8080/"
        },
        "id": "1jpjcu0V8SM7",
        "outputId": "325ff106-9c30-4b10-8096-f841828e091b"
      },
      "execution_count": 11,
      "outputs": [
        {
          "output_type": "execute_result",
          "data": {
            "text/plain": [
              "2"
            ]
          },
          "metadata": {},
          "execution_count": 11
        }
      ]
    },
    {
      "cell_type": "markdown",
      "source": [
        "\n",
        "\n",
        "```\n",
        "# # 3. You are given n sorted data files of diƯerent sizes. To combine them into one single file,\n",
        "you repeatedly merge two files at a time. The cost of merging two files is equal to the\n",
        "sum of their sizes. After merging, the new file size is the sum of the two merged files.\n",
        "Your goal is to find the minimum total cost to merge all files into one.\n",
        "Greedy Strategy:\n",
        "At each step, always merge the two smallest files first, since merging larger ones earlier\n",
        "incurs higher costs in later merges.\n",
        "Input:\n",
        "files[] = [sizes of n files]\n",
        "Output:\n",
        "Minimum total merge cost.\n",
        "Example:\n",
        "Input: files = [5, 10, 20, 30]\n",
        "Steps:\n",
        "Merge 5 + 10 → cost = 15 → new files = [15, 20, 30]\n",
        "Merge 15 + 20 → cost = 35 → new files = [35, 30]\n",
        "Merge 30 + 35 → cost = 65 → new files = [65]\n",
        "Total cost = 15 + 35 + 65 = 115\n",
        "Output: 115\n",
        "```"
      ],
      "metadata": {
        "id": "rR0jWm8p8SfL"
      }
    },
    {
      "cell_type": "code",
      "source": [
        "import heapq\n",
        "def merege_tw0_files(file_sizes):\n",
        "  heapq.heapify(file_sizes)\n",
        "  total_expense=0\n",
        "  while len(file_sizes)>1:\n",
        "    little1=heapq.heappop(file_sizes)\n",
        "    little2=heapq.heappop(file_sizes)\n",
        "    total_expense+=little1+little2\n",
        "    heapq.heappush(file_sizes,little1+little2)\n",
        "  return total_expense\n",
        "merege_tw0_files([5,10,20,30])"
      ],
      "metadata": {
        "colab": {
          "base_uri": "https://localhost:8080/"
        },
        "id": "9WueHSoE9hgP",
        "outputId": "f0cce75e-ff36-4358-fcf1-68de72995ced"
      },
      "execution_count": 13,
      "outputs": [
        {
          "output_type": "execute_result",
          "data": {
            "text/plain": [
              "115"
            ]
          },
          "metadata": {},
          "execution_count": 13
        }
      ]
    },
    {
      "cell_type": "markdown",
      "source": [
        "\n",
        "```\n",
        "# 4. The HR department of a company wants to conduct as many training sessions as\n",
        "possible in a single conference room. Each session has a start and finish time. Since no\n",
        "two sessions can overlap, help the HR team select the maximum number of sessions\n",
        "that can be scheduled. Demonstrate how this problem can be solved using three\n",
        "diƯerent techniques: (a) Greedy, (b) Divide and Conquer, and (c) Brute Force. Discuss\n",
        "the eƯiciency and limitations of each approach.\n",
        "| Session | Start | Finish |\n",
        "| ------- | ----- | ------ |\n",
        "| S1 | 1 | 3 |\n",
        "| S2 | 2 | 5 |\n",
        "| S3 | 4 | 6 |\n",
        "| S4 | 6 | 7 |\n",
        "| S5 | 5 | 8 |\n",
        "| S6 | 8 | 9 |\n",
        "```\n",
        "\n"
      ],
      "metadata": {
        "id": "P9wepjBk9htt"
      }
    },
    {
      "cell_type": "code",
      "source": [
        "def greedy_max_sessions(sessions):\n",
        "  sorted_sessions = sorted(sessions,key=lambda x:x[1])\n",
        "  count=0\n",
        "  last_finish=0\n",
        "  for start, finish in sorted_sessions:\n",
        "    if start>=last_finish:\n",
        "      count+=1\n",
        "      last_finish=finish\n",
        "  return count\n",
        "sessions = [(1,3),(2,5),(4,6),(6,7),(5,8),(8,9)]\n",
        "greedy_max_sessions(sessions)"
      ],
      "metadata": {
        "colab": {
          "base_uri": "https://localhost:8080/"
        },
        "id": "dhfdOiCk9h8l",
        "outputId": "3a245fd0-0a9a-4721-a2ff-0444f4fe2db7"
      },
      "execution_count": 29,
      "outputs": [
        {
          "output_type": "execute_result",
          "data": {
            "text/plain": [
              "4"
            ]
          },
          "metadata": {},
          "execution_count": 29
        }
      ]
    },
    {
      "cell_type": "code",
      "source": [
        "def max_sessions_divide_conquer_fixed(sessions, start_index=0, last_finish=0):\n",
        "    if start_index >= len(sessions):\n",
        "        return 0\n",
        "    max_count = 0\n",
        "    for i in range(start_index, len(sessions)):\n",
        "        if sessions[i][0] >= last_finish:\n",
        "            count = 1 + max_sessions_divide_conquer_fixed(sessions, i + 1, sessions[i][1])\n",
        "            if count > max_count:\n",
        "                max_count = count\n",
        "    return max_count\n",
        "sessions.sort(key=lambda x: x[0])\n",
        "max_sessions_divide_conquer_fixed(sessions)\n"
      ],
      "metadata": {
        "colab": {
          "base_uri": "https://localhost:8080/"
        },
        "id": "G7MErq76HgIr",
        "outputId": "ca4eee33-a61b-4248-a8f9-560e90eb1151"
      },
      "execution_count": 36,
      "outputs": [
        {
          "output_type": "execute_result",
          "data": {
            "text/plain": [
              "4"
            ]
          },
          "metadata": {},
          "execution_count": 36
        }
      ]
    },
    {
      "cell_type": "code",
      "source": [
        "from itertools import combinations\n",
        "def is_compatible(schedule):\n",
        "    schedule = sorted(schedule, key=lambda x: x[0])\n",
        "    for i in range(1, len(schedule)):\n",
        "        if schedule[i][0] < schedule[i-1][1]:\n",
        "            return False\n",
        "    return True\n",
        "def max_sessions_brute_force(sessions):\n",
        "    max_count = 0\n",
        "    n = len(sessions)\n",
        "    for r in range(1, n+1):\n",
        "        for combo in combinations(sessions, r):\n",
        "            if is_compatible(combo):\n",
        "                max_count = max(max_count, r)\n",
        "    return max_count\n",
        "\n",
        "max_sessions_brute_force(sessions)"
      ],
      "metadata": {
        "colab": {
          "base_uri": "https://localhost:8080/"
        },
        "id": "mmmBE4-KI7W7",
        "outputId": "9c1501e0-367d-4e7f-ffb3-9cf2ddf381e6"
      },
      "execution_count": 30,
      "outputs": [
        {
          "output_type": "execute_result",
          "data": {
            "text/plain": [
              "4"
            ]
          },
          "metadata": {},
          "execution_count": 30
        }
      ]
    }
  ]
}