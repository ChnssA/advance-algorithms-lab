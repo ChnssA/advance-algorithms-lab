{
  "nbformat": 4,
  "nbformat_minor": 0,
  "metadata": {
    "colab": {
      "provenance": [],
      "mount_file_id": "1HyAXdeUsuH0a3mlIUTJPFQXUGVEXRxsv",
      "authorship_tag": "ABX9TyPy06T1pAkiIcWi5+SpeZbq",
      "include_colab_link": true
    },
    "kernelspec": {
      "name": "python3",
      "display_name": "Python 3"
    },
    "language_info": {
      "name": "python"
    }
  },
  "cells": [
    {
      "cell_type": "markdown",
      "metadata": {
        "id": "view-in-github",
        "colab_type": "text"
      },
      "source": [
        "<a href=\"https://colab.research.google.com/github/ChnssA/advance-algorithms-lab/blob/main/25010_advance_algorithm_lab_4.ipynb\" target=\"_parent\"><img src=\"https://colab.research.google.com/assets/colab-badge.svg\" alt=\"Open In Colab\"/></a>"
      ]
    },
    {
      "cell_type": "markdown",
      "source": [
        "# **Lab Sheet 4 Advance Algorithms**"
      ],
      "metadata": {
        "id": "Zm00Ft7ieJwW"
      }
    },
    {
      "cell_type": "markdown",
      "source": [
        "# 1. Given an integer array  of size n.\n",
        "Write an iterative program to find the maximum\n",
        "sum MAX that can be obtained from the successive locations of A.\n",
        "Eg: A= [-2, -3, 1, -1, 5, -1, 3, 1, -1, -2, -4]    \n",
        "Output:   MAX= [5,-1,3,1]= 8\n",
        "a) Find out the worst case and best case complexities of the algorithm.\n",
        "b) Submit the program for the given problem Maximum Subarray - LeetCode and\n",
        "submit the screenshot of its acceptance as a proof."
      ],
      "metadata": {
        "id": "n2OKnbqCeNTO"
      }
    },
    {
      "cell_type": "code",
      "execution_count": 2,
      "metadata": {
        "colab": {
          "base_uri": "https://localhost:8080/"
        },
        "id": "7h3txI2fayln",
        "outputId": "289540e4-c29a-497b-9e13-0962b53b44ad"
      },
      "outputs": [
        {
          "output_type": "stream",
          "name": "stdout",
          "text": [
            "8\n"
          ]
        }
      ],
      "source": [
        "from typing import List\n",
        "class Solution:\n",
        "    def maxSubArray(self, nums: List[int]) -> int:\n",
        "        max_sum = current_sum = nums[0]\n",
        "        for num in nums[1:]:\n",
        "            current_sum = max(current_sum + num, num)\n",
        "            max_sum = max(max_sum, current_sum)\n",
        "        return max_sum\n",
        "arr = [-2, -3, 1, -1, 5, -1, 3, 1, -1, -2, -4]\n",
        "print(Solution().maxSubArray(arr))"
      ]
    },
    {
      "cell_type": "markdown",
      "source": [
        "# 2. Let A1 and A2 are two integer arrays of size n.\n",
        "Write an algorithm to find the\n",
        "intersection of two arrays A1 and A2.  \n",
        "Eg: A1=[1, 4,5,6,7,9] A2=[3,4,6] output=[4,6]\n",
        "a) How many comparisons does this algorithm do in worst case?\n",
        "b) Submit the program for the given problem Intersection of Two Arrays -\n",
        "LeetCode and submit the screenshot of its acceptance as a proof."
      ],
      "metadata": {
        "id": "gRlQGmYWffLI"
      }
    },
    {
      "cell_type": "code",
      "source": [
        "from typing import List\n",
        "class Solution:\n",
        "    def intersection(self, nums1: List[int], nums2: List[int]) -> List[int]:\n",
        "        set1 = set(nums1)\n",
        "        set2 = set(nums2)\n",
        "        return list(set1 & set2)\n",
        "A1 = [1, 4, 5, 6, 7, 9]\n",
        "A2 = [3, 4, 6]\n",
        "print(Solution().intersection(A1, A2))  # Output: [4, 6]"
      ],
      "metadata": {
        "colab": {
          "base_uri": "https://localhost:8080/"
        },
        "id": "kPHbXaJGbV1r",
        "outputId": "e361b4f3-ace7-46ba-c023-fe2e15194078"
      },
      "execution_count": 3,
      "outputs": [
        {
          "output_type": "stream",
          "name": "stdout",
          "text": [
            "[4, 6]\n"
          ]
        }
      ]
    },
    {
      "cell_type": "markdown",
      "source": [
        "# 3. Given two strings S1 and S2.\n",
        "Write a recursive algorithm to check whether S1 is the\n",
        "subsequence of  S2 . For example, S1= ACN and S2=PACKING, you should return true and if\n",
        "S1= dag ,S2=adefg, you should return false.\n",
        "a) Submit the program for the given problem  Is Subsequence - LeetCodeand\n",
        "submit the screenshot    of its acceptance as a proof.\n",
        "b) Analyse the worst case complexity of the problem.  "
      ],
      "metadata": {
        "id": "gGvZ23FOgpDJ"
      }
    },
    {
      "cell_type": "code",
      "source": [
        "class Solution:\n",
        "    def isSubsequence(self, s: str, t: str) -> bool:\n",
        "        if not s:\n",
        "            return True\n",
        "        if not t:\n",
        "            return False\n",
        "        if s[0] == t[0]:\n",
        "            return self.isSubsequence(s[1:], t[1:])\n",
        "        else:\n",
        "            return self.isSubsequence(s, t[1:])"
      ],
      "metadata": {
        "id": "qxpu9-6geMQ0"
      },
      "execution_count": 4,
      "outputs": []
    },
    {
      "cell_type": "markdown",
      "source": [
        "# 4. Given an array of n elements\n",
        " write an algorithm to find the second largest of\n",
        "array elements without sorting the array elements.\n",
        "\n",
        "a) Analyse the worse case and best case running time of an algorithm.\n",
        "b) Find the total number of operations required to execute the problem."
      ],
      "metadata": {
        "id": "GqnSwxWihf27"
      }
    },
    {
      "cell_type": "code",
      "source": [
        "def second_largest(arr):\n",
        "    if len(arr) < 2:\n",
        "        return None  # No second largest element\n",
        "    first, second = float('-inf'), float('-inf')\n",
        "    for x in arr:\n",
        "        if x > first:\n",
        "            second = first\n",
        "            first = x\n",
        "        elif first > x > second:\n",
        "            second = x\n",
        "    return second if second != float('-inf') else None\n"
      ],
      "metadata": {
        "id": "QA20-7nreTjt"
      },
      "execution_count": 9,
      "outputs": []
    }
  ]
}