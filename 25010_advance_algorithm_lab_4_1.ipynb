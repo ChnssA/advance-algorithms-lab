{
  "cells": [
    {
      "cell_type": "markdown",
      "metadata": {
        "id": "view-in-github",
        "colab_type": "text"
      },
      "source": [
        "<a href=\"https://colab.research.google.com/github/ChnssA/advance-algorithms-lab/blob/main/25010_advance_algorithm_lab_4_1.ipynb\" target=\"_parent\"><img src=\"https://colab.research.google.com/assets/colab-badge.svg\" alt=\"Open In Colab\"/></a>"
      ]
    },
    {
      "cell_type": "markdown",
      "source": [
        "# **Lab Sheet 4.1 Advance Algorithms**"
      ],
      "metadata": {
        "id": "rMlegJBjoaam"
      }
    },
    {
      "cell_type": "markdown",
      "source": [
        "Problem: Inversion Count (Divide and Conquer)"
      ],
      "metadata": {
        "id": "QrfZxd67okKr"
      }
    },
    {
      "cell_type": "code",
      "execution_count": 1,
      "metadata": {
        "id": "WQb1B1X5U-Mg"
      },
      "outputs": [],
      "source": [
        "class Solution:\n",
        "    def __merge(self, arr, temp, left, mid, right):\n",
        "        i = left\n",
        "        j = mid + 1\n",
        "        k = left\n",
        "        inv_count = 0\n",
        "\n",
        "        while i <= mid and j <= right:\n",
        "            if arr[i] <= arr[j]:\n",
        "                temp[k] = arr[i]\n",
        "                i += 1\n",
        "                k += 1\n",
        "            else:\n",
        "                temp[k] = arr[j]\n",
        "                inv_count += (mid - i + 1)\n",
        "                j += 1\n",
        "                k += 1\n",
        "\n",
        "        while i <= mid:\n",
        "            temp[k] = arr[i]\n",
        "            i += 1\n",
        "            k += 1\n",
        "\n",
        "        while j <= right:\n",
        "            temp[k] = arr[j]\n",
        "            j += 1\n",
        "            k += 1\n",
        "\n",
        "        for index in range(left, right + 1):\n",
        "            arr[index] = temp[index]\n",
        "\n",
        "        return inv_count\n",
        "\n",
        "    def __mergeSort(self, arr, temp, left, right):\n",
        "        inv_count = 0\n",
        "        if left < right:\n",
        "            mid = (left + right) // 2\n",
        "            inv_count += self.__mergeSort(arr, temp, left, mid)\n",
        "            inv_count += self.__mergeSort(arr, temp, mid + 1, right)\n",
        "            inv_count += self.__merge(arr, temp, left, mid, right)\n",
        "        return inv_count\n",
        "\n",
        "    def inversionCount(self, arr):\n",
        "        n = len(arr)\n",
        "        temp = [0] * n\n",
        "        return self.__mergeSort(arr, temp, 0, n - 1)\n"
      ]
    },
    {
      "cell_type": "markdown",
      "source": [
        " Problem: K-th Smallest / Largest Element (Quick\n",
        "Select)"
      ],
      "metadata": {
        "id": "quMgGQxYoyC-"
      }
    },
    {
      "cell_type": "code",
      "execution_count": 3,
      "metadata": {
        "id": "zwMEh01ExO0D"
      },
      "outputs": [],
      "source": [
        "class Solution:\n",
        "    def kthSmallest(self, arr, k):\n",
        "        arr.sort()\n",
        "        return arr[k-1]\n"
      ]
    },
    {
      "cell_type": "code",
      "execution_count": null,
      "metadata": {
        "id": "JWLlKed2U7Ox"
      },
      "outputs": [],
      "source": []
    },
    {
      "cell_type": "code",
      "execution_count": null,
      "metadata": {
        "id": "IYTs20InU8jA"
      },
      "outputs": [],
      "source": []
    }
  ],
  "metadata": {
    "colab": {
      "provenance": [],
      "authorship_tag": "ABX9TyPsOdDH/J4gGIpog/9IWO1I",
      "include_colab_link": true
    },
    "kernelspec": {
      "display_name": "Python 3",
      "name": "python3"
    },
    "language_info": {
      "name": "python"
    }
  },
  "nbformat": 4,
  "nbformat_minor": 0
}