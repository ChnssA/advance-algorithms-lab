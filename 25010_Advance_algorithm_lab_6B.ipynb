{
  "nbformat": 4,
  "nbformat_minor": 0,
  "metadata": {
    "colab": {
      "provenance": [],
      "authorship_tag": "ABX9TyOeAuJpsX6yRj2dbG+jwD5t",
      "include_colab_link": true
    },
    "kernelspec": {
      "name": "python3",
      "display_name": "Python 3"
    },
    "language_info": {
      "name": "python"
    }
  },
  "cells": [
    {
      "cell_type": "markdown",
      "metadata": {
        "id": "view-in-github",
        "colab_type": "text"
      },
      "source": [
        "<a href=\"https://colab.research.google.com/github/ChnssA/advance-algorithms-lab/blob/main/25010_Advance_algorithm_lab_6B.ipynb\" target=\"_parent\"><img src=\"https://colab.research.google.com/assets/colab-badge.svg\" alt=\"Open In Colab\"/></a>"
      ]
    },
    {
      "cell_type": "markdown",
      "source": [
        "# **1. A factory has 4 steel rods of lengths: 4 m, 3 m, 2 m, 6 m.**\n",
        "\n",
        "```\n",
        "• The cost of welding two rods together is equal to the sum of their lengths.\n",
        "• Once two rods are welded, the resulting rod can be used again for welding.\n",
        "I. Which design strategy is most suitable for solving the above problem?\n",
        "II. Design a pseudocode and implement it.\n",
        "III. What is the minimum total welding cost to join all the rods into one?\n",
        "```\n",
        "\n"
      ],
      "metadata": {
        "id": "DrZEhzWz5kW0"
      }
    },
    {
      "cell_type": "markdown",
      "source": [
        "# **i**.\n",
        "Greddy method is the best design startegy for solving this problem.\n",
        "# **ii.Pseudocode**\n",
        "```\n",
        "1. Initialize min-heap with len(rods).\n",
        "2. Set total cost = 0  #initially.\n",
        "3. Since there are more than one rod in the heap:\n",
        "  i. Remove the two smallest rods(Ex: len1 and len2).\n",
        "  ii. Compute cost =len1+len2\n",
        "  iii.Add cost to total_cost\n",
        "  iv. Insert the new rod of length (len1+len2) back into heap.\n",
        "  v.  return total_cost.\n",
        "```\n",
        "\n",
        "\n",
        "\n",
        "```\n",
        "Function MinWeldingCost(rod_lengths):\n",
        "    Create a min-heap from rod_lengths\n",
        "    total_cost ← 0\n",
        "\n",
        "    While heap has more than one rod:\n",
        "        rod1 ← ExtractMin(heap)\n",
        "        rod2 ← ExtractMin(heap)\n",
        "        cost ← rod1 + rod2\n",
        "        total_cost ← total_cost + cost\n",
        "        Insert(heap, cost)\n",
        "\n",
        "    Return total_cost\n",
        "```\n",
        "\n"
      ],
      "metadata": {
        "id": "1dkFEhz86Wok"
      }
    },
    {
      "cell_type": "markdown",
      "source": [
        "# **1.code**"
      ],
      "metadata": {
        "id": "IQLPADsi8hSj"
      }
    },
    {
      "cell_type": "code",
      "execution_count": 1,
      "metadata": {
        "colab": {
          "base_uri": "https://localhost:8080/"
        },
        "id": "Bw4GQRmW5dSA",
        "outputId": "30062c14-fe23-4c66-cd4f-0b022eae464d"
      },
      "outputs": [
        {
          "output_type": "stream",
          "name": "stdout",
          "text": [
            "29\n"
          ]
        }
      ],
      "source": [
        "import heapq\n",
        "def min_weld_cost(rod_len):\n",
        "  heapq.heapify(rod_len)\n",
        "  total_cost=0\n",
        "  while len(rod_len)>1:\n",
        "    len1=heapq.heappop(rod_len)\n",
        "    len2=heapq.heappop(rod_len)\n",
        "    cost=len1+len2\n",
        "    total_cost+=cost\n",
        "    heapq.heappush(rod_len,cost)\n",
        "  return total_cost\n",
        "rod_len=[4,3,2,6]\n",
        "print(min_weld_cost(rod_len))"
      ]
    },
    {
      "cell_type": "markdown",
      "source": [
        "# **2. A hospital receives booking requests for the use of its MRI scanning machine.**\n",
        "\n",
        "\n",
        "```\n",
        "Each request specifies a start time and an end time. If two bookings overlap, they must be\n",
        "merged into a single continuous slot to avoid double counting of time.\n",
        "The requests for today are:\n",
        "Bookings = [[9,11], [10,12], [13,15], [14,17], [18,20]]\n",
        "I. Which design strategy is most suitable for solving the above problem?\n",
        "II. Design a pseudocode and implement it.\n",
        "III. Merge all overlapping bookings and return the final schedule with non-overlapping\n",
        "time slots\n",
        "```\n",
        "\n"
      ],
      "metadata": {
        "id": "3H76KoI66G3D"
      }
    },
    {
      "cell_type": "markdown",
      "source": [
        "# **i**.\n",
        "Greedy method is the best design startegy for solving this problem.using merge sort.\n",
        "# **ii.Pseudocode**\n",
        "```\n",
        "1. Bookings are sorted by start time.\n",
        "2. Initialize an empty list fo merged intervals .\n",
        "3. For each booking in sorted list:\n",
        "  i. If merged list=empty or current booking is not overlap with the last merged interval: Add current booking to merged list.\n",
        "  ii. Else(there is an overlap):\n",
        "       merge by updating the end time of the last interval to max(last_end, current_end).\n",
        "  iii.Return the merged intervals list.\n",
        "  \n",
        "```\n",
        "\n",
        "\n",
        "```\n",
        "Function MergeBookings(bookings):\n",
        "    If bookings is empty:\n",
        "        Return []\n",
        "\n",
        "    Sort bookings by start time\n",
        "    merged ← [bookings[0]]\n",
        "\n",
        "    For each interval in bookings[1:]:\n",
        "        last ← merged[-1]\n",
        "        If interval.start ≤ last.end:\n",
        "            last.end ← max(last.end, interval.end)\n",
        "        Else:\n",
        "            Append interval to merged\n",
        "\n",
        "    Return merged\n",
        "```\n",
        "\n",
        "\n",
        "\n"
      ],
      "metadata": {
        "id": "JgOVPD2m-oEM"
      }
    },
    {
      "cell_type": "markdown",
      "source": [
        "# **2.code**"
      ],
      "metadata": {
        "id": "AYcC1uduBa4U"
      }
    },
    {
      "cell_type": "code",
      "source": [
        "Bookings = [[9,11], [10,12], [13,15], [14,17], [18,20]]\n",
        "def merge_bookings(bookings):\n",
        "  if not bookings:\n",
        "    return[]\n",
        "  bookings.sort(key=lambda x: x[0])\n",
        "  merged=[bookings[0]]\n",
        "  for current in bookings[1 :]:\n",
        "    last=merged[-1]\n",
        "    if current[0]<=last[1]:\n",
        "      merged[-1]=(last[0],max(last[1],current[1]))\n",
        "    else:\n",
        "      merged.append(current)\n",
        "  return merged\n",
        "print(merge_bookings(Bookings))"
      ],
      "metadata": {
        "colab": {
          "base_uri": "https://localhost:8080/"
        },
        "id": "0OiNRAuaCxZK",
        "outputId": "1788abd8-e68d-45e8-aea7-67004e4470c4"
      },
      "execution_count": 3,
      "outputs": [
        {
          "output_type": "stream",
          "name": "stdout",
          "text": [
            "[(9, 12), (13, 17), [18, 20]]\n"
          ]
        }
      ]
    }
  ]
}