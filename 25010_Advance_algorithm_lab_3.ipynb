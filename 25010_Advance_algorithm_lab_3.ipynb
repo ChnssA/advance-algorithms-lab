{
  "nbformat": 4,
  "nbformat_minor": 0,
  "metadata": {
    "colab": {
      "provenance": [],
      "authorship_tag": "ABX9TyMMBJr6rL/FNf6LBLUtM+Ex",
      "include_colab_link": true
    },
    "kernelspec": {
      "name": "python3",
      "display_name": "Python 3"
    },
    "language_info": {
      "name": "python"
    }
  },
  "cells": [
    {
      "cell_type": "markdown",
      "metadata": {
        "id": "view-in-github",
        "colab_type": "text"
      },
      "source": [
        "<a href=\"https://colab.research.google.com/github/ChnssA/advance-algorithms-lab/blob/main/25010_Advance_algorithm_lab_3.ipynb\" target=\"_parent\"><img src=\"https://colab.research.google.com/assets/colab-badge.svg\" alt=\"Open In Colab\"/></a>"
      ]
    },
    {
      "cell_type": "markdown",
      "source": [
        "# **Lab Sheet 3 Advance Algorithms**"
      ],
      "metadata": {
        "id": "uJOW4SwdWZ22"
      }
    },
    {
      "cell_type": "markdown",
      "source": [
        "# 1. You are given a sorted array A of size n.\n",
        "Write an iterative program to remove the\n",
        "duplicates from the array. For example, if A[] = {2, 7, 7, 11, 24, 24, 24, 29, 36, 36},\n",
        "your output should be B[] = {2, 7, 11, 24, 29, 36}.\n",
        "a. Count the operations to get the closed form equation of running time (worst case).  \n",
        "b. Submit the program for the problem Remove Duplicates from Sorted Array -\n",
        "LeetCode and submit the snapshot of acceptance as proof.  "
      ],
      "metadata": {
        "id": "SvlJmfyiWiIW"
      }
    },
    {
      "cell_type": "code",
      "source": [
        "from typing import List\n",
        "class Solution:\n",
        "    def removeDuplicates(self, nums: List[int]) -> int:\n",
        "        k = 0  # Pointer for the place to overwrite next unique\n",
        "        for x in nums:\n",
        "            if k == 0 or x != nums[k - 1]:\n",
        "                nums[k] = x\n",
        "                k += 1\n",
        "        return k"
      ],
      "metadata": {
        "id": "uFReML-fWTq4"
      },
      "execution_count": 1,
      "outputs": []
    },
    {
      "cell_type": "markdown",
      "source": [
        "# 2. Given two sorted lists A[1..n] and B[1..n],\n",
        "write an algorithm to merge them into a\n",
        "single sorted list C[1..2n]. For example, if A[] = {1,3,6,7} and B[] = {2,4,5,8}, then\n",
        "C[] = {1,2,3,4,5,6,7,8}.\n",
        "a. Write either an iterative or a recursive program (based on your comfort).  \n",
        "b. Count the operations to get the closed form of equation of running time T(n).  \n",
        "c. Submit the program for the problem    Merge Two Sorted Lists - LeetCode\n",
        "and submit the snapshot of acceptance as proof.  "
      ],
      "metadata": {
        "id": "yhp7q5QfWu8S"
      }
    },
    {
      "cell_type": "code",
      "source": [
        "def merge_sorted_lists(A, B):\n",
        "    n = len(A)\n",
        "    C = []\n",
        "    i = j = 0\n",
        "    while i < n and j < n:\n",
        "        if A[i] < B[j]:\n",
        "            C.append(A[i])\n",
        "            i += 1\n",
        "        else:\n",
        "            C.append(B[j])\n",
        "            j += 1\n",
        "    while i < n:\n",
        "        C.append(A[i])\n",
        "        i += 1\n",
        "    while j < n:\n",
        "        C.append(B[j])\n",
        "        j += 1\n",
        "    return C\n",
        "A = [1, 3, 6, 7]\n",
        "B = [2, 4, 5, 8]\n",
        "print(merge_sorted_lists(A, B))  # Output: [1, 2, 3, 4, 5, 6, 7, 8]"
      ],
      "metadata": {
        "id": "6ars_fubLb4l",
        "colab": {
          "base_uri": "https://localhost:8080/"
        },
        "outputId": "a9a7d5e9-341e-444b-dc3f-d29f54d804c3"
      },
      "execution_count": 5,
      "outputs": [
        {
          "output_type": "stream",
          "name": "stdout",
          "text": [
            "[1, 2, 3, 4, 5, 6, 7, 8]\n"
          ]
        }
      ]
    },
    {
      "cell_type": "markdown",
      "source": [
        "# 3. Given an array arr[] of length n, identify the element that occurs more than ⌊n/2⌋\n",
        "times. If no such element exists, return -1.\n",
        "Examples:\n",
        "Input: arr[] = [1, 1, 2, 1, 3, 5, 1]\n",
        "Output: 1\n",
        "Explanation: The element 1 appears 4 times. Since ⌊7/2⌋ = 3, and 4 > 3, 1 is the\n",
        "majority element.\n",
        "Input: arr[] = [7]\n",
        "Output: 7\n",
        "Explanation: The element 7 appears once. ⌊1/2⌋ = 0, and 1 > 0, so 7 is the majority\n",
        "element.\n",
        "Input: arr[] = [2, 13]\n",
        "Output: -1\n",
        "Explanation: No element appears more than ⌊2/2⌋ = 1 time, so there is no majority\n",
        "element.\n",
        "Submit the program for the problem Majority Element - LeetCode"
      ],
      "metadata": {
        "id": "SJyUFClMawO9"
      }
    },
    {
      "cell_type": "code",
      "source": [
        "from typing import List\n",
        "class Solution:\n",
        "    def majorityElement(self, nums: List[int]) -> int:\n",
        "        candidate = None\n",
        "        count = 0\n",
        "        for num in nums:\n",
        "            if count == 0:\n",
        "                candidate = num\n",
        "                count = 1\n",
        "            elif num == candidate:\n",
        "                count += 1\n",
        "            else:\n",
        "                count -= 1\n",
        "        count = 0\n",
        "        for num in nums:\n",
        "            if num == candidate:\n",
        "                count += 1\n",
        "        if count > len(nums) // 2:\n",
        "            return candidate\n",
        "        else:\n",
        "            return -1\n",
        "arr = [1, 1, 2, 1, 3, 5, 1]\n",
        "print(Solution().majorityElement(arr))  # Output: 1"
      ],
      "metadata": {
        "colab": {
          "base_uri": "https://localhost:8080/"
        },
        "id": "nl2ZEKLoa2Sn",
        "outputId": "ce398b76-0631-479c-c501-d2d401a1876a"
      },
      "execution_count": 7,
      "outputs": [
        {
          "output_type": "stream",
          "name": "stdout",
          "text": [
            "1\n"
          ]
        }
      ]
    },
    {
      "cell_type": "code",
      "source": [
        "from typing import List\n",
        "class Solution:\n",
        "    def majorityElement(self, nums: List[int]) -> int:\n",
        "        candidate = None\n",
        "        count = 0\n",
        "        for num in nums:\n",
        "            if count == 0:\n",
        "                candidate = num\n",
        "                count = 1\n",
        "            elif num == candidate:\n",
        "                count += 1\n",
        "            else:\n",
        "                count -= 1\n",
        "        if nums.count(candidate) > len(nums) // 2:\n",
        "            return candidate\n",
        "        else:\n",
        "            return -1"
      ],
      "metadata": {
        "id": "vHzcSkupbh3V"
      },
      "execution_count": 8,
      "outputs": []
    },
    {
      "cell_type": "markdown",
      "source": [
        "#1. Consider an array A of size n.\n",
        "Split A[] into the two arrays Low[] and High[] such that\n",
        "Low[] contains all elements < A[0] and High[] contains all elements >= A[0].  \n",
        "(a) Write an iterative algorithm to do this operation.  \n",
        "(b) Count the operations to get the closed form of equation of running time T(n).  "
      ],
      "metadata": {
        "id": "Z4dFKbBpIuBg"
      }
    },
    {
      "cell_type": "markdown",
      "source": [
        "#Iterative Algorithm\n",
        "```\n",
        " Input: An array A of size n.\n",
        "Output:Arrays Low[]: all elements < A\n",
        "      :Arrays High[]: all elements >= A\n",
        "      Low[] <-- empty list\n",
        "      High[] <--empty list\n",
        "      for i = 1 to n-1:\n",
        "         if A[i] < A[0]:\n",
        "           append A[i] to Low\n",
        "         else:\n",
        "           append A[i] to High\n",
        "      return low[],high[]This is formatted as code\n",
        "```"
      ],
      "metadata": {
        "id": "lFmuHG5iI3RL"
      }
    },
    {
      "cell_type": "markdown",
      "source": [
        "Initialization: Low = [], High = [] (2 operations)\n",
        "\n",
        "Loop body: For i from 1 to n-1 (i.e., n-1 iterations)\n",
        "\n",
        "Comparison: A[i] < A (1 operation per iteration)\n",
        "\n",
        "Append: Either Low.append or High.append (1 operation per iteration)\n",
        "\n",
        "Return: At the end (ignore, as it's O(1))\n",
        "Total Operations (T(n)):\n",
        "\n",
        "T\n",
        "(\n",
        "n\n",
        ")\n",
        "=\n",
        "2\n",
        "+\n",
        "2\n",
        "(\n",
        "n\n",
        "−\n",
        "1\n",
        ")\n",
        "=\n",
        "2\n",
        "n\n",
        "T(n)=2+2(n−1)=2n\n",
        "Closed-form Running Time Equation\n",
        "T(n) = 2n\n",
        "\n",
        "This is O(n) time complexity."
      ],
      "metadata": {
        "id": "hLaf2wmZKswd"
      }
    },
    {
      "cell_type": "markdown",
      "source": [
        "#2. The nth number in the Fibonacci series Fib(n) is given by the recursive formula: Fib(n-1) + Fib(n-2).\n",
        " The first two numbers of the series are given by Fib(0) = Fib(1) = 1.  \n",
        "a. Write a recursive program for computing Fib(n).  \n",
        "b. Count the number of operations and determine the running time T(n).  "
      ],
      "metadata": {
        "id": "zGRLxWY_K8dE"
      }
    },
    {
      "cell_type": "code",
      "execution_count": null,
      "metadata": {
        "id": "DevovzVvIosi"
      },
      "outputs": [],
      "source": [
        "def Fib(n):\n",
        "    if n == 0 or n == 1:\n",
        "        return 1\n",
        "    else:\n",
        "        return Fib(n-1) + Fib(n-2)\n"
      ]
    },
    {
      "cell_type": "markdown",
      "source": [
        "Fib(5) Computation\n",
        "Recall:\n",
        "Fib(0) = 1\n",
        "Fib(1) = 1\n",
        "Fib(n) = Fib(n-1) + Fib(n-2) for n ≥ 2\n",
        "Let's show all the function calls and results:\n",
        "Recursive Calls Breakdown\n",
        "Fib(5)\n",
        "Fib(4)\n",
        "Fib(3)\n",
        "Fib(2)\n",
        "Fib(1) → 1\n",
        "Fib(0) → 1\n",
        "Fib(2) = 1 + 1 = 2\n",
        "Fib(1) → 1\n",
        "Fib(3) = 2 + 1 = 3\n",
        "Fib(2)\n",
        "Fib(1) → 1\n",
        "Fib(0) → 1\n",
        "Fib(2) = 1 + 1 = 2\n",
        "Fib(4) = 3 + 2 = 5\n",
        "Fib(3)\n",
        "Fib(2)\n",
        "Fib(1) → 1\n",
        "Fib(0) → 1\n",
        "Fib(2) = 1 + 1 = 2\n",
        "Fib(1) → 1\n",
        "Fib(3) = 2 + 1 = 3\n",
        "Fib(5) = 5 + 3 = 8\n",
        "Step-by-step Calculations\n",
        "Let’s simplify:\n",
        "\n",
        "Fib(0) = 1\n",
        "\n",
        "Fib(1) = 1\n",
        "\n",
        "Fib(2) = 1 + 1 = 2\n",
        "\n",
        "Fib(3) = 2 + 1 = 3\n",
        "\n",
        "Fib(4) = 3 + 2 = 5\n",
        "\n",
        "Fib(5) = 5 + 3 = 8\n",
        "\n",
        "Final Output\n",
        "So, Fib(5) = 8\n",
        "\n",
        "```\n",
        "Fib(5)\n",
        "├──Fib(4)\n",
        "│   ├──Fib(3)\n",
        "│   │   ├──Fib(2)\n",
        "│   │   │   ├──Fib(1): 1\n",
        "│   │   │   └──Fib(0): 1\n",
        "│   │   └──Fib(1): 1\n",
        "│   └──Fib(2)\n",
        "│       ├──Fib(1): 1\n",
        "│       └──Fib(0): 1\n",
        "└──Fib(3)\n",
        "    ├──Fib(2)\n",
        "    │   ├──Fib(1): 1\n",
        "    │   └──Fib(0): 1\n",
        "    └──Fib(1): 1\n",
        "\n",
        "```"
      ],
      "metadata": {
        "id": "cXBw2DUHL9e4"
      }
    },
    {
      "cell_type": "markdown",
      "source": [
        "#3. Given below are the two sorting algorithms.\n",
        " (a) Try the example in hand first and see how they work in each case.\n",
        " (b) Count the number of operations.  \n",
        "**Algorithm: Sort1(A[1..n])**  \n",
        "1. If n == 1  \n",
        "2. Return  \n",
        "3. Else  \n",
        "4. pos = findMaxPos(A[1..n])  \n",
        "5. Swap(A[pos], A[n])  \n",
        "6. Sort1[A[1..n-1]) // Func on call example  A[1..8] = {5,8,3,6,1,4,2,7}  \n",
        "Sort1(A[1..8])\n",
        "findMaxPos() returns the posi on at which\n",
        "max element is present. Assume it take ‘n’\n",
        "operations.\n",
        "**Algorithm: Sort2(A[1..n])**\n",
        "1. If n == 1  \n",
        "2. Return A[n]  \n",
        "3. Else  \n",
        "4. B[1..n/2] = Sort2[A[1..n/2])  \n",
        "5. C[1..n/2] = Sort2[A[n/2+1..n])  \n",
        "6. A[1..n] = merge(B[1..n/2], C[1..n/2])  \n",
        "// Func on call example  A[1..8] = {5,8,3,6,1,4,2,7}  \n",
        "Sort1(A[1..8])  \n",
        "merge() combines two sorted arrays into a single sorted array. Assume it take n\n",
        "operations.\n",
        "(The algorithm has minor errors but are immaterial for the question.)   "
      ],
      "metadata": {
        "id": "oMa1wtJlM6e4"
      }
    }
  ]
}