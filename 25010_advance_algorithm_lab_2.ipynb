{
  "nbformat": 4,
  "nbformat_minor": 0,
  "metadata": {
    "colab": {
      "provenance": [],
      "include_colab_link": true
    },
    "kernelspec": {
      "name": "python3",
      "display_name": "Python 3"
    },
    "language_info": {
      "name": "python"
    }
  },
  "cells": [
    {
      "cell_type": "markdown",
      "metadata": {
        "id": "view-in-github",
        "colab_type": "text"
      },
      "source": [
        "<a href=\"https://colab.research.google.com/github/ChnssA/advance-algorithms-lab/blob/main/25010_advance_algorithm_lab_2.ipynb\" target=\"_parent\"><img src=\"https://colab.research.google.com/assets/colab-badge.svg\" alt=\"Open In Colab\"/></a>"
      ]
    },
    {
      "cell_type": "markdown",
      "source": [
        "# **Lab Sheet 2 Advance Algorithms**"
      ],
      "metadata": {
        "id": "Fnj9vsLcO0sX"
      }
    },
    {
      "cell_type": "markdown",
      "source": [
        "# 1.Translate the following code snippet into a program ( May use Java /Python)\n",
        "\n",
        "\n",
        "```\n",
        "# This is formatted as code\n",
        "Algorithm maxPairSum(A, n):\n",
        "    maxSum ← A[0] + A[1]\n",
        "    for i ← 0 to n - 2 do\n",
        "        for j ← i + 1 to n - 1  \n",
        "            if A[i] + A[j] > maxSum then\n",
        "                maxSum ← A[i] + A[j]\n",
        "    return maxSum\n",
        "```\n",
        "\n",
        "Ensure that the program  is a well written program , observing the necessary etiquette\n",
        "(comments, proper variable declarations, saving the code with proper name, etc)  "
      ],
      "metadata": {
        "id": "5wEON5MfmcfP"
      }
    },
    {
      "cell_type": "code",
      "execution_count": 2,
      "metadata": {
        "colab": {
          "base_uri": "https://localhost:8080/"
        },
        "id": "2lrPJ9m2lgWZ",
        "outputId": "894be5d8-d118-4550-dfc6-b2421b9888c0"
      },
      "outputs": [
        {
          "output_type": "stream",
          "name": "stdout",
          "text": [
            "Array: [10, 2, 5, 8, 12, 3]\n",
            "The maximum pair sum is: 22\n",
            "--------------------\n",
            "Array: [-5, -1, -10, -2, -8]\n",
            "The maximum pair sum is: -3\n",
            "--------------------\n",
            "Array: [5]\n",
            "An error occurred: The array must contain at least two elements.\n"
          ]
        }
      ],
      "source": [
        "from typing import List\n",
        "def max_pair_sum(A: List[int]) -> int:\n",
        "    n = len(A)\n",
        "    if n < 2:\n",
        "        raise ValueError(\"The array must contain at least two elements.\")\n",
        "    max_sum = A[0] + A[1]\n",
        "    for i in range(n - 1):\n",
        "        for j in range(i + 1, n):\n",
        "            current_sum = A[i] + A[j]\n",
        "            if current_sum > max_sum:\n",
        "                max_sum = current_sum\n",
        "    return max_sum\n",
        "if __name__ == \"__main__\":\n",
        "    array1 = [10, 2, 5, 8, 12, 3]\n",
        "    print(f\"Array: {array1}\")\n",
        "    result1 = max_pair_sum(array1)\n",
        "    print(f\"The maximum pair sum is: {result1}\")\n",
        "    print(\"-\" * 20)\n",
        "    # Example 2\n",
        "    array2 = [-5, -1, -10, -2, -8]\n",
        "    print(f\"Array: {array2}\")\n",
        "    result2 = max_pair_sum(array2)\n",
        "    print(f\"The maximum pair sum is: {result2}\")\n",
        "    print(\"-\" * 20)\n",
        "    # Example with a small array\n",
        "    try:\n",
        "        array4 = [5]\n",
        "        print(f\"Array: {array4}\")\n",
        "        max_pair_sum(array4)\n",
        "    except ValueError as e:\n",
        "        print(f\"An error occurred: {e}\")"
      ]
    },
    {
      "cell_type": "markdown",
      "source": [
        "How to Use:\n",
        "\n",
        "Save the code in a file named max_pair_sum.py.\n",
        "\n",
        "Run it using:\n",
        "python max_pair_sum.py\n",
        "\n",
        "Modify the numbers list for different inputs."
      ],
      "metadata": {
        "id": "20W2GoYVm6fc"
      }
    },
    {
      "cell_type": "code",
      "source": [
        "def max_pair_sum(A):\n",
        "    n = len(A)\n",
        "    if n < 2:\n",
        "        raise ValueError(\"Array must contain at least two elements.\")\n",
        "    max_sum = A[0] + A[1]\n",
        "    for i in range(n - 1):\n",
        "        for j in range(i + 1, n):\n",
        "            current_sum = A[i] + A[j]\n",
        "            if current_sum > max_sum:\n",
        "                max_sum = current_sum\n",
        "    return max_sum\n",
        "# Example usage\n",
        "if __name__ == \"__main__\":\n",
        "    # Sample input\n",
        "    numbers = [3, 5, 9, 1, 6]\n",
        "    result = max_pair_sum(numbers)\n",
        "    print(f\"The maximum sum of any pair is: {result}\")"
      ],
      "metadata": {
        "colab": {
          "base_uri": "https://localhost:8080/"
        },
        "id": "Mfxb6n73nZM_",
        "outputId": "39076bbb-19c7-4e5d-fd86-dbc78cb0c341"
      },
      "execution_count": 3,
      "outputs": [
        {
          "output_type": "stream",
          "name": "stdout",
          "text": [
            "The maximum sum of any pair is: 15\n"
          ]
        }
      ]
    },
    {
      "cell_type": "markdown",
      "source": [
        "# 2. Consider the following problem:\n",
        " Given an array of positive integers arr[] of size n, the task is to find second largest distinct  element in the array.\n",
        "(i) Write a pseudocode for the problem\n",
        "(ii) Implement it using the programming language of your choice\n",
        "(iii) Include a system time function to capture the time for executing the code assuming\n",
        "n=10, n=15.\n",
        "(iv) Now modify your code such that you are able to scale it to n to be very large (Hint: random generate the input using necessary function)"
      ],
      "metadata": {
        "id": "K7icSjqIod_z"
      }
    },
    {
      "cell_type": "markdown",
      "source": [
        "# (i) pseudocode for the problem\n",
        "\n",
        "```\n",
        "Algorithm FindSecondLargest(arr, n)\n",
        "    if n < 2\n",
        "        return \"Not enough elements\"\n",
        "    Initialize firstLargest ← -∞\n",
        "    Initialize secondLargest ← -∞\n",
        "    for i ← 0 to n-1 do\n",
        "        if arr[i] > firstLargest then\n",
        "            secondLargest ← firstLargest\n",
        "            firstLargest ← arr[i]\n",
        "        else if arr[i] > secondLargest and arr[i] ≠ firstLargest then\n",
        "            secondLargest ← arr[i]\n",
        "    if secondLargest == -∞\n",
        "        return \"No second largest element found\"\n",
        "    else\n",
        "        return secondLargest`\n",
        "\n",
        "\n",
        "```\n"
      ],
      "metadata": {
        "id": "RLgkG7v6pZIx"
      }
    },
    {
      "cell_type": "markdown",
      "source": [
        "# (ii)program"
      ],
      "metadata": {
        "id": "umxirWSQvvI6"
      }
    },
    {
      "cell_type": "code",
      "source": [
        "import time\n",
        "def find_second_largest(arr):\n",
        "    if len(arr) < 2:\n",
        "        return \"Not enough elements\"\n",
        "    first = second = float('-inf')\n",
        "    for num in arr:\n",
        "        if num > first:\n",
        "            second = first\n",
        "            first = num\n",
        "        elif num > second and num != first:\n",
        "            second = num\n",
        "    if second == float('-inf'):\n",
        "        return \"No second largest element found\"\n",
        "    else:\n",
        "        return second\n",
        "# Example usage and timing\n",
        "arr_10 = [2, 5, 1, 9, 7, 6, 3, 8, 4, 5]\n",
        "arr_15 = [12, 35, 1, 10, 34, 1, 35, 16, 17, 35, 28, 19, 14, 34, 40]\n",
        "for arr in [arr_10, arr_15]:\n",
        "    print(f\"Array: {arr}\")\n",
        "    start = time.time()\n",
        "    result = find_second_largest(arr)\n",
        "    end = time.time()\n",
        "    print(f\"Second largest: {result}\")\n",
        "    print(f\"Time taken: {(end - start) * 1000:.4f} ms\\n\")"
      ],
      "metadata": {
        "colab": {
          "base_uri": "https://localhost:8080/"
        },
        "id": "SEx0g3pGpd-H",
        "outputId": "28141ecc-23ed-456d-872f-122934dca2ad"
      },
      "execution_count": 6,
      "outputs": [
        {
          "output_type": "stream",
          "name": "stdout",
          "text": [
            "Array: [2, 5, 1, 9, 7, 6, 3, 8, 4, 5]\n",
            "Second largest: 8\n",
            "Time taken: 0.0067 ms\n",
            "\n",
            "Array: [12, 35, 1, 10, 34, 1, 35, 16, 17, 35, 28, 19, 14, 34, 40]\n",
            "Second largest: 35\n",
            "Time taken: 0.0031 ms\n",
            "\n"
          ]
        }
      ]
    },
    {
      "cell_type": "markdown",
      "source": [
        "# (iii) Timing Results for n=10 and n=15\n",
        "The code itself (above) measures execution time using the time module.\n",
        "You just have to run the script to see the printout.\n",
        " For such small values, the execution time will be extremely low (fractions of a millisecond)."
      ],
      "metadata": {
        "id": "6GYzI28Gp6ot"
      }
    },
    {
      "cell_type": "code",
      "source": [
        "import random\n",
        "n_large = 10**6\n",
        "large_arr = [random.randint(1, 10**9) for _ in range(n_large)]\n",
        "start = time.time()\n",
        "result_large = find_second_largest(large_arr)\n",
        "end = time.time()\n",
        "print(\"Second largest in large_arr:\", result_large, \"| Time taken: {:.10f} sec\".format(end-start))"
      ],
      "metadata": {
        "colab": {
          "base_uri": "https://localhost:8080/"
        },
        "id": "XDWFxj56s7en",
        "outputId": "03c92dfc-395d-4e55-89ab-4ee51b461022"
      },
      "execution_count": 7,
      "outputs": [
        {
          "output_type": "stream",
          "name": "stdout",
          "text": [
            "Second largest in large_arr: 999998885 | Time taken: 0.0234467983 sec\n"
          ]
        }
      ]
    },
    {
      "cell_type": "markdown",
      "source": [
        "# (iv) Scaling up to Very Large n (Random Generated Input)\n",
        "You can efficiently generate a large list using Python's random module, and measure the time as before."
      ],
      "metadata": {
        "id": "eAvOTBazsc6Q"
      }
    },
    {
      "cell_type": "code",
      "source": [
        "import time\n",
        "def find_second_largest(arr):\n",
        "    if len(arr) < 2:\n",
        "        return \"Not enough elements\"\n",
        "    first = second = float('-inf')\n",
        "    for num in arr:\n",
        "        if num > first:\n",
        "            second = first\n",
        "            first = num\n",
        "        elif num > second and num != first:\n",
        "            second = num\n",
        "    if second == float('-inf'):\n",
        "        return \"No second largest element found\"\n",
        "    else:\n",
        "        return second\n",
        "# Example usage and timing\n",
        "arr_10 = [2, 5, 1, 9, 7, 6, 3, 8, 4, 5]\n",
        "arr_15 = [12, 35, 1, 10, 34, 1, 35, 16, 17, 35, 28, 19, 14, 34, 40]\n",
        "for arr in [arr_10, arr_15]:\n",
        "    print(f\"Array: {arr}\")\n",
        "    start = time.time()\n",
        "    result = find_second_largest(arr)\n",
        "    end = time.time()\n",
        "    print(f\"Second largest: {result}\")\n",
        "    print(f\"Time taken: {(end - start) * 1000:.4f} ms\\n\")\n",
        "import random\n",
        "n_large = 10**6\n",
        "large_arr = [random.randint(1, 10**9) for _ in range(n_large)]\n",
        "start = time.time()\n",
        "result_large = find_second_largest(large_arr)\n",
        "end = time.time()\n",
        "print(\"Second largest in large_arr:\", result_large, \"| Time taken: {:.10f} sec\".format(end-start))"
      ],
      "metadata": {
        "colab": {
          "base_uri": "https://localhost:8080/"
        },
        "id": "ygL3yr2XtJHx",
        "outputId": "6b670068-00a5-49ae-fa11-a592cb795dca"
      },
      "execution_count": 8,
      "outputs": [
        {
          "output_type": "stream",
          "name": "stdout",
          "text": [
            "Array: [2, 5, 1, 9, 7, 6, 3, 8, 4, 5]\n",
            "Second largest: 8\n",
            "Time taken: 0.0057 ms\n",
            "\n",
            "Array: [12, 35, 1, 10, 34, 1, 35, 16, 17, 35, 28, 19, 14, 34, 40]\n",
            "Second largest: 35\n",
            "Time taken: 0.0029 ms\n",
            "\n",
            "Second largest in large_arr: 999994736 | Time taken: 0.0229139328 sec\n"
          ]
        }
      ]
    },
    {
      "cell_type": "markdown",
      "source": [
        "# # without using inbuilt functions"
      ],
      "metadata": {
        "id": "8VZkd86ztnF4"
      }
    },
    {
      "cell_type": "code",
      "source": [
        "def find_second_largest(arr):\n",
        "    first_largest = float('-inf')\n",
        "    second_largest = float('-inf')\n",
        "    i = 0\n",
        "    n = len(arr)\n",
        "    while i < n:\n",
        "        num = arr[i]\n",
        "        if num > first_largest:\n",
        "            if num != first_largest:\n",
        "                second_largest = first_largest\n",
        "            first_largest = num\n",
        "        elif num != first_largest and num > second_largest:\n",
        "            second_largest = num\n",
        "        i += 1\n",
        "    if second_largest == float('-inf'):\n",
        "        return None\n",
        "    return second_largest\n",
        "# Example\n",
        "arr_10 = [12, 35, 1, 10, 34, 1, 34, 7, 8, 9]\n",
        "arr_15 = [12, 35, 1, 10, 34, 1, 34, 7, 8, 9, 50, 60, 2, 3, 4]\n",
        "print(\"Second largest in arr_10:\", find_second_largest(arr_10))\n",
        "print(\"Second largest in arr_15:\", find_second_largest(arr_15))"
      ],
      "metadata": {
        "colab": {
          "base_uri": "https://localhost:8080/"
        },
        "id": "o3_Y5UMvtbpX",
        "outputId": "a885d4c1-3b99-4232-a3b5-857733f5372f"
      },
      "execution_count": 9,
      "outputs": [
        {
          "output_type": "stream",
          "name": "stdout",
          "text": [
            "Second largest in arr_10: 34\n",
            "Second largest in arr_15: 50\n"
          ]
        }
      ]
    },
    {
      "cell_type": "markdown",
      "source": [
        "# 3. Write a pseudocode and implement the scenario:  \n",
        "Given a sorted array arr[] of size n, the goal is to rearrange the array so that all distinct\n",
        "elements appear at the beginning in sorted order.\n",
        " Additionally, return the length of this distinct sorted subarray.\n",
        "Sample Input Output\n",
        "Input: arr[] = [2, 2, 2, 2, 2]\n",
        "Output: [2]\n",
        "Explanation: All the elements are 2, So only keep one instance of 2.\n",
        "Input: arr[] = [1, 2, 2, 3, 4, 4, 4, 5, 5]\n",
        "Output: [1, 2, 3, 4, 5]\n",
        "\n",
        "Input: arr[] = [1, 2, 3]\n",
        "Output: [1, 2, 3]\n",
        "Explanation : No change as all elements are distinct."
      ],
      "metadata": {
        "id": "MzHWOpAPt2om"
      }
    },
    {
      "cell_type": "markdown",
      "source": [
        "# Problem:\n",
        "we have a sorted array arr[] of size n. The task is to rearrange the array in-place so that all the distinct elements appear at the beginning, maintaining the sorted order, and return the length of that distinct subarray.\n",
        "\n",
        "Important:\n",
        "The array is already sorted.\n",
        "\n",
        "After rearrangement, the first part of the array (up to returned length) contains distinct elements.\n",
        "\n",
        "Extra elements beyond that length can be anything (often ignored)."
      ],
      "metadata": {
        "id": "SCa92VzVu-qi"
      }
    },
    {
      "cell_type": "markdown",
      "source": [
        "# (i) Pseudocode\n",
        "\n",
        "\n",
        "```\n",
        "Input: sorted array arr[] of size n\n",
        "Output: length of distinct sorted subarray; arr modified in-place so first part has distinct elements\n",
        "\n",
        "Algorithm:\n",
        "1. If n == 0, return 0\n",
        "2. Initialize:\n",
        "   - write_index = 1   # position where the next unique element will be placed\n",
        "3. For read_index from 1 to n-1:\n",
        "      If arr[read_index] != arr[read_index - 1]:\n",
        "          arr[write_index] = arr[read_index]\n",
        "          write_index = write_index + 1\n",
        "4. Return write_index  # length of the distinct subarray at start of arr\n",
        "\n",
        "```\n",
        "\n"
      ],
      "metadata": {
        "id": "nngrDm8VvJT_"
      }
    },
    {
      "cell_type": "code",
      "source": [
        "def rearrange_distinct(arr):\n",
        "    n = len(arr)\n",
        "    if n == 0:\n",
        "        return 0\n",
        "    write_index = 1\n",
        "    for read_index in range(1, n):\n",
        "        if arr[read_index] != arr[read_index - 1]:\n",
        "            arr[write_index] = arr[read_index]\n",
        "            write_index += 1\n",
        "    return write_index\n",
        "# Test examples:\n",
        "arr1 = [2, 2, 2, 2, 2]\n",
        "length1 = rearrange_distinct(arr1)\n",
        "print(\"Output:\", arr1[:length1])  # Output: [2]\n",
        "arr2 = [1, 2, 2, 3, 4, 4, 4, 5, 5]\n",
        "length2 = rearrange_distinct(arr2)\n",
        "print(\"Output:\", arr2[:length2])  # Output: [1, 2, 3, 4, 5]\n",
        "arr3 = [1, 2, 3]\n",
        "length3 = rearrange_distinct(arr3)\n",
        "print(\"Output:\", arr3[:length3])  # Output: [1, 2, 3]"
      ],
      "metadata": {
        "colab": {
          "base_uri": "https://localhost:8080/"
        },
        "id": "ZMtcwRFsux7-",
        "outputId": "317a5a2e-4168-49a9-cf68-0ba297797c04"
      },
      "execution_count": 10,
      "outputs": [
        {
          "output_type": "stream",
          "name": "stdout",
          "text": [
            "Output: [2]\n",
            "Output: [1, 2, 3, 4, 5]\n",
            "Output: [1, 2, 3]\n"
          ]
        }
      ]
    }
  ]
}